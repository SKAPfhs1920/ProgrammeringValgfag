{
 "cells": [
  {
   "cell_type": "markdown",
   "metadata": {
    "slideshow": {
     "slide_type": "slide"
    }
   },
   "source": [
    "# Objektorientert programmering"
   ]
  },
  {
   "cell_type": "markdown",
   "metadata": {
    "slideshow": {
     "slide_type": "subslide"
    }
   },
   "source": [
    "Objektorientert programmering er en programmeringsmetodikk, en måte å programmere på. All kode kan enten skrives ved hjelp av klasser/objekter, eller uten. Noen ganger er det desidert enklere med, mens andre ganger kan det være like enkelt å ikke bruke klasser/objekter. Og det går selvfølgelig an å bruke en kombinasjon! I noen språk, derimot, finnes det ikke frittstående funksjoner, kun klasser (Java). Og i andre språk, finnes det ikke klasser, kun funksjoner og enklere datastrukturer (C, Lisp, etc.)."
   ]
  },
  {
   "cell_type": "markdown",
   "metadata": {
    "slideshow": {
     "slide_type": "subslide"
    }
   },
   "source": [
    "## Objekter vs. klasser\n",
    "Det er viktig å vite forskjellen på en klasse og et objekt. En klasse definerer en struktur, mens et objekt er en instans av denne strukturen"
   ]
  },
  {
   "cell_type": "code",
   "execution_count": 1,
   "metadata": {},
   "outputs": [],
   "source": [
    "class Money:\n",
    "    \"\"\"Define a class Money\"\"\"\n",
    "    def __init__(self, value, currency):\n",
    "        self.value = value\n",
    "        self.currency = currency"
   ]
  },
  {
   "cell_type": "markdown",
   "metadata": {},
   "source": [
    "Foreløpig har vi her ingen objekter, men vi har én klasse, Money."
   ]
  },
  {
   "cell_type": "code",
   "execution_count": 2,
   "metadata": {},
   "outputs": [
    {
     "data": {
      "text/plain": [
       "500"
      ]
     },
     "execution_count": 2,
     "metadata": {},
     "output_type": "execute_result"
    }
   ],
   "source": [
    "money = Money(500, \"NOK\")  # Create an object by instantiating the class Money\n",
    "money.value"
   ]
  },
  {
   "cell_type": "markdown",
   "metadata": {},
   "source": [
    "Da har vi fått vårt første objekt. Objektet finnes ved at vi har en peker til det, nemlig variabelen `money`."
   ]
  },
  {
   "cell_type": "markdown",
   "metadata": {},
   "source": [
    "Det kan hende jeg bruker objekter og klasser litt om hverandre. Det er ikke fordi det ikke er viktig med forskjellen, men fordi det er ikke alltid så viktig å spesifisere den riktige. "
   ]
  },
  {
   "cell_type": "markdown",
   "metadata": {},
   "source": [
    "Når man skrive objektorientert kode, prøver man å samle koden som tilhører det objektet hos seg. Vi skal snakke litt mer om dette seinere, når dere skal få jobbe selv. \n",
    "\n",
    "---"
   ]
  },
  {
   "cell_type": "markdown",
   "metadata": {},
   "source": [
    "# Magic-methods\n",
    "I Python har vi noe som heter magic methods. De lar oss overstyre grunnleggende funksjonaliteter til klassene våre. Dere har allerede sett en av de: `__init__`. Dette er jo det dere har lært er konstruktøren til klassen. Vi har også mange andre. Ofte i programmerings er det enklest med bare litt god gammel kode."
   ]
  },
  {
   "cell_type": "code",
   "execution_count": 3,
   "metadata": {},
   "outputs": [],
   "source": [
    "class MagicMoney:\n",
    "    \"\"\"Define a class Money\"\"\"\n",
    "    def __init__(self, value, currency):\n",
    "        self.value = value\n",
    "        self.currency = currency\n",
    "        \n",
    "    def __str__(self):\n",
    "        return f\"{self.value} {self.currency}\"\n",
    "    \n",
    "    def __add__(self, other):\n",
    "        return MagicMoney(self.value + other.value, self.currency)\n",
    "    \n",
    "    def __sub__(self, other):\n",
    "        return MagicMoney(self.value - other.value, self.currency)"
   ]
  },
  {
   "cell_type": "code",
   "execution_count": 4,
   "metadata": {},
   "outputs": [
    {
     "name": "stdout",
     "output_type": "stream",
     "text": [
      "100 NOK\n",
      "200 NOK\n",
      "300 NOK\n",
      "100 NOK\n"
     ]
    }
   ],
   "source": [
    "money = MagicMoney(100, \"NOK\")\n",
    "other_money = MagicMoney(200, \"NOK\")\n",
    "print(money)\n",
    "print(other_money)\n",
    "print(money + other_money)\n",
    "print(other_money - money)"
   ]
  },
  {
   "cell_type": "markdown",
   "metadata": {},
   "source": [
    "Ved å implementere slike magic-metoder, blir en klasse veldig mye enklere å bruke. "
   ]
  },
  {
   "cell_type": "markdown",
   "metadata": {},
   "source": [
    "Ser dere noen svakheter med klassen vår?"
   ]
  },
  {
   "cell_type": "markdown",
   "metadata": {},
   "source": [
    "[Her](https://docs.python.org/3/reference/datamodel.html#basic-customization) kan dere finne alle magic-metodene. De fleste sier seg selv.\n",
    "\n",
    "---"
   ]
  },
  {
   "cell_type": "markdown",
   "metadata": {},
   "source": [
    "# Typing\n",
    "Fra og med Python 3.6 så kan man legge til litt typer, hvis man vil. Det har ingenting å si når programmet kjører, men det kan være en hjelp når man skriver kode. Spesielt når man bruker IDE'er, som PyCharm, vil den være mye flinkere til å hjelpe deg, hvis du skrive ned litt typer."
   ]
  },
  {
   "cell_type": "code",
   "execution_count": 5,
   "metadata": {},
   "outputs": [],
   "source": [
    "class MagicMoneyTyped:\n",
    "    \"\"\"Define a class Money\"\"\"\n",
    "    def __init__(self, value: float, currency: str):\n",
    "        self.value = value\n",
    "        self.currency = currency\n",
    "        \n",
    "    def __str__(self) -> str:\n",
    "        return f\"{self.value} {self.currency}\"\n",
    "    \n",
    "    def __add__(self, other: 'MagicMoneyTyped') -> 'MagicMoneyTyped':\n",
    "        return MagicMoney(self.value + other.value, self.currency)\n",
    "    \n",
    "    def __sub__(self, other: 'MagicMoneyTyped') -> 'MagicMoneyTyped':\n",
    "        return MagicMoney(self.value - other.value, self.currency)"
   ]
  },
  {
   "cell_type": "markdown",
   "metadata": {},
   "source": [
    "Det er en liten greie her med at du ikke kan ditt eget klassenavn, uten å legge det inn i en streng. \n",
    "Dette er litt teit, men kommer til å bli fikset etterhvert.\n",
    "\n",
    "Dere står fritt til å velge om dere vil skrive typet kode eller ikke, men jeg syns det er ganske fint! Det finnes også verktøy som [MyPy](http://mypy-lang.org) for å analysere koden din, og sjekke ta typene dine stemmer. Husk at i andre språk, så MÅ man skrive type OVER ALT.\n",
    "\n",
    "----"
   ]
  },
  {
   "cell_type": "markdown",
   "metadata": {},
   "source": [
    "# Tic Tac Toe"
   ]
  },
  {
   "cell_type": "markdown",
   "metadata": {},
   "source": [
    "Vi skal nå prøve å lage tre på rad ved hjelp av objektorientert programmering. Som et utgangspunkt, tenkte jeg å gi dere et lite skall."
   ]
  },
  {
   "cell_type": "markdown",
   "metadata": {},
   "source": [
    "Det finnes uendelig mange måter å implementere dette spillet på. Jeg satt kjapt i går og tenkte ut min måte.\n",
    "Jeg tenkte vi kunne ha 4 klasse:\n",
    "\n",
    "### `Piece`\n",
    "Denne skal rett og slett representere en brikke, som har et symbol på seg.\n",
    "### `Player`\n",
    "En spiller er jo naturligvis en som spiller spillet, og som har en brikke som den spiller med. En spiller kan for eksempel selv velge hvordan den vil bli printet (\\**hint\\**).\n",
    "### `Board`\n",
    "Brettet representerer det fysiske brettet, som har tomme brikker på seg i starten, og fylles etterhvert med brikkene fra spillerne. Brettet har jo da også styr på stillingen i spillet, og det er brettet som skal kunne fortelle oss om noen har vunnet, og i såfall hvilken brikke. Jeg sier her hvilken brikke, ikke spiller. Brettet vet ikke noe om spillere, kun brikkene som ligger på brettet.\n",
    "### `Game`\n",
    "Spillet er jo da klassen som faktisk får ting til å skje. Den skal holde styr på progresjonen i spillet, hvilken tur det er sin, og be om å få input fra spillerne. \n",
    "\n",
    "---"
   ]
  }
 ],
 "metadata": {
  "kernelspec": {
   "display_name": "Python 3",
   "language": "python",
   "name": "python3"
  },
  "language_info": {
   "codemirror_mode": {
    "name": "ipython",
    "version": 3
   },
   "file_extension": ".py",
   "mimetype": "text/x-python",
   "name": "python",
   "nbconvert_exporter": "python",
   "pygments_lexer": "ipython3",
   "version": "3.7.4"
  }
 },
 "nbformat": 4,
 "nbformat_minor": 4
}
