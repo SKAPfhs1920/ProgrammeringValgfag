{
 "cells": [
  {
   "cell_type": "markdown",
   "metadata": {},
   "source": [
    "# Oppgaver\n",
    "## Jobb videre med TicTacToe\n",
    "Bygg videre, og gjøre programmet mer robust, mer brukervennlig og gøyere!\n",
    "\n",
    "**Forslag:**\n",
    "\n",
    "1. Fullfør `celebrate_victory()`. Skriv ut brettet og gratuler!\n",
    "1. Lag spillet slik at det avslutter hvis brettet er fullt og ingen vant!\n",
    "1. Ta inn navn når programmet starter, der du i spillet sier hvem sin tur det er, basert på navnet\n",
    "1. La spilleren selv bestemme hva slags brikke han vil ha.\n",
    "1. Bytt ut `self._pieces` i `Board` med `self._taken_`, der du i stedet for å holde styr på hele brettet, kun holder styr på de brikkene som er tatt, i form av en tuple `(row, column)`. Altså f.eks.\n",
    "```python\n",
    "self._taken = []\n",
    "tup = (1, 2) # This is a tuple. Unlike a list, it can not be alterned. tup.append does not work!\n",
    "self._taken.append(tup)\n",
    "self._taken.append((some_row, some_column))  # Note the extra parentheses!\n",
    "```\n",
    "1. Utvid for å la brikkeren bruke mer enn ett symbol for å representere en brikke. Utvid da brettet, slik at det fortsatt printes pent!\n",
    "1. Lag 4 på rad? 🤯\n",
    "1. Bruk farger for å printe symbolene dine! [Hjelpe-link](https://stackoverflow.com/questions/287871/how-to-print-colored-text-in-terminal-in-python). La da hver spiller ha sin farge. Dette kan være hendig når vi skal videre til Rasberry Pi og Sense hat 😎."
   ]
  }
 ],
 "metadata": {
  "kernelspec": {
   "display_name": "Python 3",
   "language": "python",
   "name": "python3"
  },
  "language_info": {
   "codemirror_mode": {
    "name": "ipython",
    "version": 3
   },
   "file_extension": ".py",
   "mimetype": "text/x-python",
   "name": "python",
   "nbconvert_exporter": "python",
   "pygments_lexer": "ipython3",
   "version": "3.7.4"
  }
 },
 "nbformat": 4,
 "nbformat_minor": 4
}
