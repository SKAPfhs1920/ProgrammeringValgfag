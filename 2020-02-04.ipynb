{
 "cells": [
  {
   "cell_type": "markdown",
   "metadata": {},
   "source": [
    "# Python 102"
   ]
  },
  {
   "cell_type": "markdown",
   "metadata": {},
   "source": [
    "## Variables\n"
   ]
  },
  {
   "cell_type": "code",
   "execution_count": 1,
   "metadata": {},
   "outputs": [],
   "source": [
    "a = 1\n",
    "a = '2'\n",
    "a = [1]\n",
    "a = True\n",
    "# Not recommended to switch types... \n",
    "# Create good variable names! Never one letter! (unless a counter, then maybe ok, i.e., x, i)"
   ]
  },
  {
   "cell_type": "markdown",
   "metadata": {},
   "source": [
    "------"
   ]
  },
  {
   "cell_type": "markdown",
   "metadata": {},
   "source": [
    "## Lists"
   ]
  },
  {
   "cell_type": "code",
   "execution_count": 2,
   "metadata": {},
   "outputs": [
    {
     "name": "stdout",
     "output_type": "stream",
     "text": [
      "['This', 'is', 'a', 'list', '.']\n",
      "['This', 'is', 'a', 'longer', 'list', '.']\n"
     ]
    }
   ],
   "source": [
    "lst = ['This', 'is', 'a', 'list']\n",
    "# Insert '.' at end\n",
    "lst.append('.')\n",
    "print(lst)\n",
    "# Insert 'longer' at index 3, pushing other values to later\n",
    "lst.insert(3, 'longer')\n",
    "print(lst)\n"
   ]
  },
  {
   "cell_type": "markdown",
   "metadata": {},
   "source": [
    "------"
   ]
  },
  {
   "cell_type": "markdown",
   "metadata": {},
   "source": [
    "## Dictionaries"
   ]
  },
  {
   "cell_type": "code",
   "execution_count": 3,
   "metadata": {},
   "outputs": [],
   "source": [
    "phone_book = {\n",
    "    'given_name': 'Andreas',\n",
    "    'family_name': 'Bergem',\n",
    "    'age': 26,\n",
    "    'is_male': True,\n",
    "    'languages_spoken': ['norwegian', 'english'],\n",
    "    'emergency_contact': {\n",
    "        'given_name': 'Hanne',\n",
    "        'family_name': 'Bergem',\n",
    "        # ... maybe better with a class? Why?\n",
    "    }\n",
    "}\n",
    "\n",
    "# Use the dictionary!"
   ]
  },
  {
   "cell_type": "markdown",
   "metadata": {},
   "source": [
    "------"
   ]
  },
  {
   "cell_type": "markdown",
   "metadata": {},
   "source": [
    "## Functions"
   ]
  },
  {
   "cell_type": "code",
   "execution_count": 4,
   "metadata": {},
   "outputs": [
    {
     "name": "stdout",
     "output_type": "stream",
     "text": [
      "hei\n",
      "True\n",
      "26\n",
      "{'en': 1}\n"
     ]
    }
   ],
   "source": [
    "def empty_function():\n",
    "    pass\n",
    "\n",
    "def function_with_default_values(non_default_argument, default_argument=None):\n",
    "    pass\n",
    "\n",
    "def function_with_any_number_of_arguments(*args):\n",
    "    for arg in args:\n",
    "        print(arg)\n",
    "        \n",
    "function_with_any_number_of_arguments('hei', True, 26, {'en': 1})"
   ]
  },
  {
   "cell_type": "code",
   "execution_count": 5,
   "metadata": {},
   "outputs": [
    {
     "name": "stdout",
     "output_type": "stream",
     "text": [
      "hei: \n",
      "\t2\n",
      "en: \n",
      "\tTrue\n",
      "du: \n",
      "\t{'en': 1}\n",
      "'hei' is in kwargs!\n"
     ]
    }
   ],
   "source": [
    "def function_with_keyword_arguments(**kwargs):\n",
    "    for key, value in kwargs.items():\n",
    "        # \\n = newline, \\t = tab\n",
    "        print(f'{key}: \\n\\t{value}')\n",
    "    if 'hei' in kwargs:\n",
    "        print('\\'hei\\' is in kwargs!')\n",
    "        \n",
    "function_with_keyword_arguments(hei=2, en=True, du={'en': 1})"
   ]
  },
  {
   "cell_type": "markdown",
   "metadata": {},
   "source": [
    "These can of course be combined in all different ways. But, keyword arguments are ALWAYS LAST!"
   ]
  },
  {
   "cell_type": "markdown",
   "metadata": {},
   "source": [
    "------"
   ]
  },
  {
   "cell_type": "markdown",
   "metadata": {},
   "source": [
    "## Classes\n",
    "\n",
    "We looked at classes last time. A quick repeat"
   ]
  },
  {
   "cell_type": "code",
   "execution_count": 6,
   "metadata": {},
   "outputs": [
    {
     "name": "stdout",
     "output_type": "stream",
     "text": [
      "<__main__.Contact object at 0x103004890>\n",
      "<__main__.Contact object at 0x103004950>\n"
     ]
    }
   ],
   "source": [
    "class Contact:\n",
    "    # * means ENFORCE KEYWORD\n",
    "    def __init__(self, family_name, *, given_name=None, age=None, is_male=None, languages_spoken=None, emergency_contact = None):\n",
    "        self._family_name = family_name\n",
    "        self._given_name = given_name\n",
    "        self._age = age\n",
    "        self._is_male = is_male\n",
    "        self._languages_spoken = languages_spoken\n",
    "        self._emergency_contact = emergency_contact\n",
    "        \n",
    "    # Properties!\n",
    "        \n",
    "\n",
    "hanne = Contact(given_name='Hanne', family_name='Bergem', age=26)        \n",
    "andreas = Contact(given_name='Andreas', \n",
    "                 family_name='Bergem',\n",
    "                 age=26,\n",
    "                 is_male=True, \n",
    "                 languages_spoken=['norwegian', 'english'],\n",
    "                 emergency_contact=hanne)\n",
    "print(hanne)\n",
    "print(andreas)"
   ]
  },
  {
   "cell_type": "markdown",
   "metadata": {},
   "source": [
    "------"
   ]
  },
  {
   "cell_type": "markdown",
   "metadata": {},
   "source": [
    "## Exception handling!"
   ]
  },
  {
   "cell_type": "code",
   "execution_count": 7,
   "metadata": {},
   "outputs": [
    {
     "name": "stdout",
     "output_type": "stream",
     "text": [
      "0.0\n",
      "1.0\n"
     ]
    },
    {
     "ename": "ZeroDivisionError",
     "evalue": "division by zero",
     "output_type": "error",
     "traceback": [
      "\u001b[0;31m---------------------------------------------------------------------------\u001b[0m",
      "\u001b[0;31mZeroDivisionError\u001b[0m                         Traceback (most recent call last)",
      "\u001b[0;32m<ipython-input-7-355bd118cfcf>\u001b[0m in \u001b[0;36m<module>\u001b[0;34m\u001b[0m\n\u001b[1;32m      6\u001b[0m \u001b[0;34m\u001b[0m\u001b[0m\n\u001b[1;32m      7\u001b[0m \u001b[0;32mfor\u001b[0m \u001b[0mi\u001b[0m \u001b[0;32min\u001b[0m \u001b[0mrange\u001b[0m\u001b[0;34m(\u001b[0m\u001b[0;36m5\u001b[0m\u001b[0;34m)\u001b[0m\u001b[0;34m:\u001b[0m\u001b[0;34m\u001b[0m\u001b[0;34m\u001b[0m\u001b[0m\n\u001b[0;32m----> 8\u001b[0;31m     \u001b[0mprint\u001b[0m\u001b[0;34m(\u001b[0m\u001b[0mdivide_by_zero_or_one\u001b[0m\u001b[0;34m(\u001b[0m\u001b[0mi\u001b[0m\u001b[0;34m)\u001b[0m\u001b[0;34m)\u001b[0m\u001b[0;34m\u001b[0m\u001b[0;34m\u001b[0m\u001b[0m\n\u001b[0m",
      "\u001b[0;32m<ipython-input-7-355bd118cfcf>\u001b[0m in \u001b[0;36mdivide_by_zero_or_one\u001b[0;34m(value)\u001b[0m\n\u001b[1;32m      3\u001b[0m \u001b[0;32mdef\u001b[0m \u001b[0mdivide_by_zero_or_one\u001b[0m\u001b[0;34m(\u001b[0m\u001b[0mvalue\u001b[0m\u001b[0;34m)\u001b[0m\u001b[0;34m:\u001b[0m\u001b[0;34m\u001b[0m\u001b[0;34m\u001b[0m\u001b[0m\n\u001b[1;32m      4\u001b[0m     \u001b[0mzero_or_one\u001b[0m \u001b[0;34m=\u001b[0m \u001b[0mrandom\u001b[0m\u001b[0;34m.\u001b[0m\u001b[0mrandint\u001b[0m\u001b[0;34m(\u001b[0m\u001b[0;36m0\u001b[0m\u001b[0;34m,\u001b[0m \u001b[0;36m1\u001b[0m\u001b[0;34m)\u001b[0m\u001b[0;34m\u001b[0m\u001b[0;34m\u001b[0m\u001b[0m\n\u001b[0;32m----> 5\u001b[0;31m     \u001b[0;32mreturn\u001b[0m \u001b[0mvalue\u001b[0m \u001b[0;34m/\u001b[0m \u001b[0mzero_or_one\u001b[0m\u001b[0;34m\u001b[0m\u001b[0;34m\u001b[0m\u001b[0m\n\u001b[0m\u001b[1;32m      6\u001b[0m \u001b[0;34m\u001b[0m\u001b[0m\n\u001b[1;32m      7\u001b[0m \u001b[0;32mfor\u001b[0m \u001b[0mi\u001b[0m \u001b[0;32min\u001b[0m \u001b[0mrange\u001b[0m\u001b[0;34m(\u001b[0m\u001b[0;36m5\u001b[0m\u001b[0;34m)\u001b[0m\u001b[0;34m:\u001b[0m\u001b[0;34m\u001b[0m\u001b[0;34m\u001b[0m\u001b[0m\n",
      "\u001b[0;31mZeroDivisionError\u001b[0m: division by zero"
     ]
    }
   ],
   "source": [
    "import random\n",
    "\n",
    "def divide_by_zero_or_one(value):\n",
    "    zero_or_one = random.randint(0, 1)    \n",
    "    return value / zero_or_one\n",
    "\n",
    "for i in range(5):\n",
    "    print(divide_by_zero_or_one(i))"
   ]
  },
  {
   "cell_type": "markdown",
   "metadata": {},
   "source": [
    "------"
   ]
  }
 ],
 "metadata": {
  "kernelspec": {
   "display_name": "Python 3",
   "language": "python",
   "name": "python3"
  },
  "language_info": {
   "codemirror_mode": {
    "name": "ipython",
    "version": 3
   },
   "file_extension": ".py",
   "mimetype": "text/x-python",
   "name": "python",
   "nbconvert_exporter": "python",
   "pygments_lexer": "ipython3",
   "version": "3.7.4"
  }
 },
 "nbformat": 4,
 "nbformat_minor": 4
}
