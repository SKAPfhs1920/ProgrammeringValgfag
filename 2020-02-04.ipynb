{
 "cells": [
  {
   "cell_type": "markdown",
   "metadata": {},
   "source": [
    "# Python 102"
   ]
  },
  {
   "cell_type": "markdown",
   "metadata": {},
   "source": [
    "## Variables\n"
   ]
  },
  {
   "cell_type": "code",
   "execution_count": 1,
   "metadata": {},
   "outputs": [],
   "source": [
    "a = 1\n",
    "a = '2'\n",
    "a = [1]\n",
    "a = True\n",
    "# Not recommended to switch types... \n",
    "# Create good variable names! Never one letter! (unless a counter, then maybe ok, i.e., x, i)"
   ]
  },
  {
   "cell_type": "markdown",
   "metadata": {},
   "source": [
    "------"
   ]
  },
  {
   "cell_type": "markdown",
   "metadata": {},
   "source": [
    "## Lists"
   ]
  },
  {
   "cell_type": "code",
   "execution_count": 19,
   "metadata": {},
   "outputs": [
    {
     "name": "stdout",
     "output_type": "stream",
     "text": [
      "1.  ['This', 'is', 'a', 'list', '.']\n",
      "2.  ['This', 'is', 'a', 'longer', 'list', '.']\n",
      "3.  This is a longer list.\n",
      "4.  This is a longer list.\n",
      "['This', 'is', 'a', 'longer', 'list.', '.']\n",
      "5.  This is a longer list.\n"
     ]
    }
   ],
   "source": [
    "lst = ['This', 'is', 'a', 'list']\n",
    "# Insert '.' at end\n",
    "lst.append('.')\n",
    "print('1. ', lst)\n",
    "# Insert 'longer' at index 3, pushing other values to later\n",
    "lst.insert(3, 'longer')\n",
    "print('2. ', lst)\n",
    "print('3. ', ' '.join(lst[0:5]) + lst[5])\n",
    "print('4. ', ' '.join(lst[0:-1]) + lst[-1])\n",
    "lst[4] = lst[4] + lst[5]\n",
    "print(lst)\n",
    "print('5. ', ' '.join(lst[0:-1]))\n",
    "\n"
   ]
  },
  {
   "cell_type": "markdown",
   "metadata": {},
   "source": [
    "------"
   ]
  },
  {
   "cell_type": "markdown",
   "metadata": {},
   "source": [
    "## Dictionaries"
   ]
  },
  {
   "cell_type": "code",
   "execution_count": 28,
   "metadata": {},
   "outputs": [
    {
     "name": "stdout",
     "output_type": "stream",
     "text": [
      "Values: \n",
      "\t Andreas\n",
      "\t Bergem\n",
      "\t 26\n",
      "\t True\n",
      "\t ['norwegian', 'english']\n",
      "\t {'given_name': 'Hanne', 'family_name': 'Bergem'}\n",
      "Keys: \n",
      "\t given_name\n",
      "\t family_name\n",
      "\t age\n",
      "\t is_male\n",
      "\t languages_spoken\n",
      "\t emergency_contact\n",
      "Keys and values: \n",
      "\t given_name Andreas\n",
      "\t family_name Bergem\n",
      "\t age 26\n",
      "\t is_male True\n",
      "\t languages_spoken ['norwegian', 'english']\n",
      "\t emergency_contact {'given_name': 'Hanne', 'family_name': 'Bergem'}\n",
      "Hannes keys and values!\n",
      "\t given_name Hanne\n",
      "\t family_name Bergem\n"
     ]
    }
   ],
   "source": [
    "hanne = {\n",
    "        'given_name': 'Hanne',\n",
    "        'family_name': 'Bergem',\n",
    "        # ... maybe better with a class? Why?\n",
    "    }\n",
    "andreas = {\n",
    "    # key: value\n",
    "    'given_name': 'Andreas',\n",
    "    'family_name': 'Bergem',\n",
    "    'age': 26,\n",
    "    'is_male': True,\n",
    "    'languages_spoken': ['norwegian', 'english'],\n",
    "    'emergency_contact': hanne\n",
    "}\n",
    "\n",
    "andreas['given_name']\n",
    "print('Values: ')\n",
    "for value in andreas.values():\n",
    "    print('\\t', value)\n",
    "    \n",
    "print('Keys: ')\n",
    "for key in andreas.keys():\n",
    "    print('\\t', key)\n",
    "\n",
    "print('Keys and values: ')\n",
    "for key, value in andreas.items():\n",
    "    print('\\t', key, value)\n",
    "    \n",
    "print('Hannes keys and values!')\n",
    "for key, value in andreas['emergency_contact'].items():\n",
    "    print('\\t', key, value)"
   ]
  },
  {
   "cell_type": "markdown",
   "metadata": {},
   "source": [
    "------"
   ]
  },
  {
   "cell_type": "markdown",
   "metadata": {},
   "source": [
    "## Functions"
   ]
  },
  {
   "cell_type": "code",
   "execution_count": 32,
   "metadata": {},
   "outputs": [
    {
     "name": "stdout",
     "output_type": "stream",
     "text": [
      "1\n",
      "None\n",
      "1\n",
      "2\n",
      "hei\n",
      "True\n",
      "26\n",
      "{'en': 1}\n"
     ]
    }
   ],
   "source": [
    "def empty_function():\n",
    "    pass\n",
    "\n",
    "def function_with_default_values(non_default_argument, default_argument=None):\n",
    "    print(non_default_argument)\n",
    "    print(default_argument)\n",
    "\n",
    "def function_with_any_number_of_arguments(*args):\n",
    "    for arg in args:\n",
    "        print(arg)\n",
    "        \n",
    "function_with_default_values(1)\n",
    "function_with_default_values(1, 2)\n",
    "function_with_any_number_of_arguments('hei', True, 26, {'en': 1})"
   ]
  },
  {
   "cell_type": "code",
   "execution_count": 5,
   "metadata": {},
   "outputs": [
    {
     "name": "stdout",
     "output_type": "stream",
     "text": [
      "hei: \n",
      "\t2\n",
      "en: \n",
      "\tTrue\n",
      "du: \n",
      "\t{'en': 1}\n",
      "'hei' is in kwargs!\n"
     ]
    }
   ],
   "source": [
    "def function_with_keyword_arguments(**kwargs):\n",
    "    for key, value in kwargs.items():\n",
    "        # \\n = newline, \\t = tab\n",
    "        print(f'{key}: \\n\\t{value}')\n",
    "    if 'hei' in kwargs:\n",
    "        print('\\'hei\\' is in kwargs!')\n",
    "        \n",
    "function_with_keyword_arguments(hei=2, en=True, du={'en': 1})"
   ]
  },
  {
   "cell_type": "markdown",
   "metadata": {},
   "source": [
    "These can of course be combined in all different ways. But, keyword arguments are ALWAYS LAST!"
   ]
  },
  {
   "cell_type": "code",
   "execution_count": 35,
   "metadata": {},
   "outputs": [],
   "source": [
    "def hei(a, *b, c=None, **d):\n",
    "    pass"
   ]
  },
  {
   "cell_type": "markdown",
   "metadata": {},
   "source": [
    "------"
   ]
  },
  {
   "cell_type": "markdown",
   "metadata": {},
   "source": [
    "## Classes\n",
    "\n",
    "We looked at classes last time. A quick repeat"
   ]
  },
  {
   "cell_type": "code",
   "execution_count": 57,
   "metadata": {},
   "outputs": [
    {
     "name": "stdout",
     "output_type": "stream",
     "text": [
      "Bergem, Hanne\n",
      "\t Age: 26\n",
      "\t Gender: female\n",
      "Bergem, Andreas\n",
      "\t Age: 26\n",
      "\t Gender: male\n",
      "Johnson\n"
     ]
    }
   ],
   "source": [
    "class Contact:\n",
    "    # * means ENFORCE KEYWORD\n",
    "    def __init__(self, family_name, *, given_name=None, age=None, is_male=None, languages_spoken=None, emergency_contact = None):\n",
    "        self._family_name = family_name\n",
    "        self._given_name = given_name\n",
    "        self._age = age\n",
    "        self._is_male = is_male\n",
    "        self._languages_spoken = languages_spoken\n",
    "        self._emergency_contact = emergency_contact\n",
    "        \n",
    "    # Properties!\n",
    "    @property\n",
    "    def family_name(self):\n",
    "        return self._family_name\n",
    "    \n",
    "    @property\n",
    "    def gender(self):\n",
    "        return 'male' if self._is_male else 'female'\n",
    "    \n",
    "    def __str__(self):\n",
    "        result = self.family_name\n",
    "        result += \", \" + self._given_name if self._given_name is not None else \"\"\n",
    "        result += f\"\\n\\t Age: {self._age}\" if self._age is not None else \"\"\n",
    "        result += f\"\\n\\t Gender: {self.gender}\" if self._is_male is not None else \"\"\n",
    "        \n",
    "        \n",
    "        return result\n",
    "        \n",
    "\n",
    "hanne = Contact(given_name='Hanne', family_name='Bergem', age=26, is_male=False)        \n",
    "andreas = Contact(given_name='Andreas', \n",
    "                 family_name='Bergem',\n",
    "                 age=26,\n",
    "                 is_male=True, \n",
    "                 languages_spoken=['norwegian', 'english'],\n",
    "                 emergency_contact=hanne)\n",
    "unknown = Contact(family_name=\"Johnson\")\n",
    "print(hanne)\n",
    "print(andreas)\n",
    "print(unknown)"
   ]
  },
  {
   "cell_type": "markdown",
   "metadata": {},
   "source": [
    "------"
   ]
  },
  {
   "cell_type": "markdown",
   "metadata": {},
   "source": [
    "## Exception handling!"
   ]
  },
  {
   "cell_type": "code",
   "execution_count": 76,
   "metadata": {},
   "outputs": [
    {
     "name": "stdout",
     "output_type": "stream",
     "text": [
      "Feilmelding: Division by zero!\n",
      "Feilmelding: Division by zero!\n",
      "Feilmelding: Division by zero!\n",
      "Feilmelding: Division by zero!\n",
      "5.0\n",
      "Something awful happened\n"
     ]
    }
   ],
   "source": [
    "import random\n",
    "\n",
    "def divide_by_zero_or_one(value) -> float:\n",
    "    zero_or_one = random.randint(0, 1)    \n",
    "    return value / zero_or_one\n",
    "\n",
    "for i in range(5):\n",
    "    try:\n",
    "        a = divide_by_zero_or_one(i)\n",
    "        b = a + 1\n",
    "        print(b)\n",
    "        raise ValueError()\n",
    "    except ZeroDivisionError:\n",
    "        print(\"Feilmelding: Division by zero!\")\n",
    "    except ValueError:\n",
    "        print(\"Something awful happened\")\n"
   ]
  },
  {
   "cell_type": "markdown",
   "metadata": {},
   "source": [
    "------"
   ]
  }
 ],
 "metadata": {
  "kernelspec": {
   "display_name": "Python 3",
   "language": "python",
   "name": "python3"
  },
  "language_info": {
   "codemirror_mode": {
    "name": "ipython",
    "version": 3
   },
   "file_extension": ".py",
   "mimetype": "text/x-python",
   "name": "python",
   "nbconvert_exporter": "python",
   "pygments_lexer": "ipython3",
   "version": "3.7.4"
  }
 },
 "nbformat": 4,
 "nbformat_minor": 4
}
